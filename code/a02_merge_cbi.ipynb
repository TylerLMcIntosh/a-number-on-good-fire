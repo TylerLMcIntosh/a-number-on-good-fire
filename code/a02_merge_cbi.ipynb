{
 "cells": [
  {
   "cell_type": "markdown",
   "id": "e9ae56b0",
   "metadata": {},
   "source": [
    "# // This script merges the cbi outputs from generate_gf_cbi\n"
   ]
  },
  {
   "cell_type": "code",
   "execution_count": 1,
   "id": "e319334e",
   "metadata": {},
   "outputs": [
    {
     "name": "stdout",
     "output_type": "stream",
     "text": [
      "Project root found at: C:\\Users\\tymc5571\\dev\\a-number-on-good-fire\n"
     ]
    }
   ],
   "source": [
    "import os\n",
    "from functools import reduce\n",
    "\n",
    "import ee\n",
    "\n",
    "from find_set_root import find_set_project_root\n",
    "PROJECT_ROOT = find_set_project_root()\n",
    "print(f\"Project root found at: {PROJECT_ROOT}\")\n",
    "import utils.gee_functions as ugeef\n",
    "\n",
    "ee.Initialize()\n",
    "\n",
    "# USER-SET PARAMETERS\n",
    "PROJECT_DIR = \"projects/ee-tymc5571-goodfire/assets/\"\n",
    "VERSION = \"welty_wildfire\"\n"
   ]
  },
  {
   "cell_type": "code",
   "execution_count": 2,
   "id": "83d68d5e",
   "metadata": {},
   "outputs": [
    {
     "name": "stdout",
     "output_type": "stream",
     "text": [
      "['projects/ee-tymc5571-goodfire/assets/welty_wildfire_cbi_bc_batch_1985_1989', 'projects/ee-tymc5571-goodfire/assets/welty_wildfire_cbi_bc_batch_1990_1994', 'projects/ee-tymc5571-goodfire/assets/welty_wildfire_cbi_bc_batch_1995_1999', 'projects/ee-tymc5571-goodfire/assets/welty_wildfire_cbi_bc_batch_2000_2004', 'projects/ee-tymc5571-goodfire/assets/welty_wildfire_cbi_bc_batch_2005_2009', 'projects/ee-tymc5571-goodfire/assets/welty_wildfire_cbi_bc_batch_2010_2014', 'projects/ee-tymc5571-goodfire/assets/welty_wildfire_cbi_bc_batch_2015_2019', 'projects/ee-tymc5571-goodfire/assets/welty_wildfire_cbi_bc_batch_2020_2020']\n"
     ]
    }
   ],
   "source": [
    "# Get assets in the specified project directory\n",
    "assets = ugeef.list_assets(PROJECT_DIR)\n",
    "# print(f\"✅ Found {len(assets)} assets:\")\n",
    "# print(assets)\n",
    "# print(type(assets))\n",
    "\n",
    "# Get assets of interest (those containing the version and \"cbi_bc_batch_\")\n",
    "cbi_batch_assets = [s for s in assets if VERSION in s and \"cbi_bc_batch\" in s]\n",
    "sorted_cbi_batch_assets = sorted(cbi_batch_assets)\n",
    "print(sorted_cbi_batch_assets)"
   ]
  },
  {
   "cell_type": "code",
   "execution_count": 4,
   "id": "f774dd95",
   "metadata": {},
   "outputs": [
    {
     "name": "stdout",
     "output_type": "stream",
     "text": [
      "['projects/ee-tymc5571-goodfire/assets/welty_wildfire_cbi_bc_batch_1985_1989', 'projects/ee-tymc5571-goodfire/assets/welty_wildfire_cbi_bc_batch_1990_1994', 'projects/ee-tymc5571-goodfire/assets/welty_wildfire_cbi_bc_batch_1995_1999', 'projects/ee-tymc5571-goodfire/assets/welty_wildfire_cbi_bc_batch_2000_2004', 'projects/ee-tymc5571-goodfire/assets/welty_wildfire_cbi_bc_batch_2005_2009', 'projects/ee-tymc5571-goodfire/assets/welty_wildfire_cbi_bc_batch_2010_2014', 'projects/ee-tymc5571-goodfire/assets/welty_wildfire_cbi_bc_batch_2015_2019', 'projects/ee-tymc5571-goodfire/assets/welty_wildfire_cbi_bc_batch_2020_2020']\n",
      "['cbi_year_1985', 'cbi_year_1986', 'cbi_year_1987', 'cbi_year_1988', 'cbi_year_1989', 'cbi_year_1990', 'cbi_year_1991', 'cbi_year_1992', 'cbi_year_1993', 'cbi_year_1994', 'cbi_year_1995', 'cbi_year_1996', 'cbi_year_1997', 'cbi_year_1998', 'cbi_year_1999', 'cbi_year_2000', 'cbi_year_2001', 'cbi_year_2002', 'cbi_year_2003', 'cbi_year_2004', 'cbi_year_2005', 'cbi_year_2006', 'cbi_year_2007', 'cbi_year_2008', 'cbi_year_2009', 'cbi_year_2010', 'cbi_year_2011', 'cbi_year_2012', 'cbi_year_2013', 'cbi_year_2014', 'cbi_year_2015', 'cbi_year_2016', 'cbi_year_2017', 'cbi_year_2018', 'cbi_year_2019', 'cbi_year_2020']\n",
      "1985 2020\n"
     ]
    }
   ],
   "source": [
    "print(sorted_cbi_batch_assets)\n",
    "images = [ee.Image(asset_id) for asset_id in sorted_cbi_batch_assets] #Create ee.Images from assets\n",
    "all_cbi = reduce(lambda img1, img2: img1.addBands(img2), images) #Merge\n",
    "print(all_cbi.bandNames().getInfo())\n",
    "\n",
    "# Get the earliest and latest year to use in naming the output\n",
    "band_names = all_cbi.bandNames().getInfo()  # e.g., ['cbi_year_1985', 'cbi_year_1986', ...]\n",
    "years = [int(name.replace('cbi_year_', '')) for name in band_names if name.startswith('cbi_year_')]\n",
    "EARLIEST_YR = str(min(years))\n",
    "LATEST_YR = str(max(years))\n",
    "print(EARLIEST_YR, LATEST_YR)"
   ]
  },
  {
   "cell_type": "code",
   "execution_count": 5,
   "id": "df1a6fb9",
   "metadata": {},
   "outputs": [],
   "source": [
    "\n",
    "# Define the export region\n",
    "states = ee.FeatureCollection(\"TIGER/2018/States\")\n",
    "study_area_west = states.filter(\n",
    "    ee.Filter.inList('NAME', [\n",
    "        'Washington', 'Oregon', 'California', 'Idaho', 'Montana', 'Nevada',\n",
    "        'Colorado', 'Wyoming', 'New Mexico', 'Arizona', 'Utah'\n",
    "    ])\n",
    ")\n",
    "\n",
    "output_region = study_area_west.geometry()\n",
    "\n",
    "# Export to Earth Engine Asset\n",
    "task = ee.batch.Export.image.toAsset(\n",
    "    image=all_cbi.toFloat(),\n",
    "    description= VERSION + \"_cbi_bc_\" + EARLIEST_YR + \"_\" + LATEST_YR,\n",
    "    assetId=\"projects/ee-tymc5571-goodfire/assets/\" + VERSION + \"_cbi_bc_\" + EARLIEST_YR + \"_\" + LATEST_YR,\n",
    "    scale=30,\n",
    "    crs=\"EPSG:4326\",\n",
    "    region=output_region,\n",
    "    maxPixels=1e13\n",
    ")\n",
    "\n",
    "# Start and monitor\n",
    "task.start()\n",
    "# print(\"🚀 Export task started\")\n",
    "\n",
    "# # Monitor the task status\n",
    "# while task.active():\n",
    "#     print(\"⏳ Waiting for export to complete...\")\n",
    "#     time.sleep(300)  # Wait 30 seconds before checking again\n",
    "\n",
    "# # Final status check\n",
    "# status = task.status()\n",
    "# if status['state'] == 'COMPLETED':\n",
    "#     print(\"✅ Export completed successfully!\")\n",
    "# else:\n",
    "#     print(f\"❌ Export failed with status: {status['state']}\")\n",
    "#     print(\"Details:\", status)"
   ]
  },
  {
   "cell_type": "code",
   "execution_count": null,
   "id": "1e4025c3",
   "metadata": {},
   "outputs": [],
   "source": []
  }
 ],
 "metadata": {
  "kernelspec": {
   "display_name": "macrosystems",
   "language": "python",
   "name": "python3"
  },
  "language_info": {
   "codemirror_mode": {
    "name": "ipython",
    "version": 3
   },
   "file_extension": ".py",
   "mimetype": "text/x-python",
   "name": "python",
   "nbconvert_exporter": "python",
   "pygments_lexer": "ipython3",
   "version": "3.10.18"
  }
 },
 "nbformat": 4,
 "nbformat_minor": 5
}
