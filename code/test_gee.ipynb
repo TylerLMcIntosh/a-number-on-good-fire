{
 "cells": [
  {
   "cell_type": "markdown",
   "id": "e6f8efb5",
   "metadata": {},
   "source": [
    "# Overview\n",
    "\n",
    "This code contains functions to export image/image collections and feature collections from GEE to an operating space. It does so via export to a Google Drive, automatic download from the Google Drive, and auto-mosaicing of files if there are multiple.\n",
    "\n",
    "The functions work via the use of a [Google Service account](https://cloud.google.com/iam/docs/service-accounts-create). If you do not have one set up, you will need to set it up, give the account permissions to manage your Google Drive, and save the service account secret as a .json file; this file should be placed in the 'secrets' directory."
   ]
  },
  {
   "cell_type": "code",
   "execution_count": 4,
   "id": "6a94a7d6",
   "metadata": {},
   "outputs": [
    {
     "name": "stdout",
     "output_type": "stream",
     "text": [
      "Project root found at: C:\\Users\\tymc5571\\dev\\a-number-on-good-fire\n",
      "✅ Directory already exists: C:\\Users\\tymc5571\\dev\\a-number-on-good-fire\\data\\raw\n",
      "✅ Directory already exists: C:\\Users\\tymc5571\\dev\\a-number-on-good-fire\\data\\derived\n",
      "✅ Directory already exists: C:\\Users\\tymc5571\\dev\\a-number-on-good-fire\\config\\secrets\n"
     ]
    },
    {
     "data": {
      "text/plain": [
       "[WindowsPath('C:/Users/tymc5571/dev/a-number-on-good-fire/data/raw'),\n",
       " WindowsPath('C:/Users/tymc5571/dev/a-number-on-good-fire/data/derived'),\n",
       " WindowsPath('C:/Users/tymc5571/dev/a-number-on-good-fire/config/secrets')]"
      ]
     },
     "execution_count": 4,
     "metadata": {},
     "output_type": "execute_result"
    }
   ],
   "source": [
    "import os\n",
    "import ee\n",
    "\n",
    "# import time\n",
    "# import ee\n",
    "# import os\n",
    "# from google.oauth2 import service_account\n",
    "# from googleapiclient.discovery import build\n",
    "# from googleapiclient.http import MediaIoBaseDownload\n",
    "# import io\n",
    "# import tempfile\n",
    "# import rasterio\n",
    "# from rasterio.merge import merge\n",
    "\n",
    "from find_set_root import find_set_project_root\n",
    "PROJECT_ROOT = find_set_project_root()\n",
    "print(f\"Project root found at: {PROJECT_ROOT}\")\n",
    "import utils.functions as uf\n",
    "\n",
    "DIR_RAW = os.path.join(PROJECT_ROOT, 'data', 'raw')\n",
    "DIR_DERIVED = os.path.join(PROJECT_ROOT, 'data', 'derived')\n",
    "DIR_SECRETS = os.path.join(PROJECT_ROOT, 'config', 'secrets')\n",
    "uf.dir_ensure([DIR_RAW, DIR_DERIVED, DIR_SECRETS])\n"
   ]
  },
  {
   "cell_type": "code",
   "execution_count": 5,
   "id": "c29e8cc5",
   "metadata": {},
   "outputs": [],
   "source": [
    "ee.Authenticate()\n",
    "ee.Initialize()\n",
    "service_file = os.path.join(DIR_SECRETS, \"ee-tymc5571-goodfire-72076a6632b5.json\")"
   ]
  },
  {
   "cell_type": "code",
   "execution_count": null,
   "id": "70153f3b",
   "metadata": {},
   "outputs": [
    {
     "name": "stdout",
     "output_type": "stream",
     "text": [
      "📁 Found 56 files. Downloading...\n",
      "⬇️ Downloaded burn_day_ca-0000030720-0000035840.tif - 100%\n",
      "⬇️ Downloaded burn_day_ca-0000030720-0000030720.tif - 100%\n",
      "⬇️ Downloaded burn_day_ca-0000030720-0000025600.tif - 100%\n",
      "⬇️ Downloaded burn_day_ca-0000030720-0000020480.tif - 100%\n",
      "⬇️ Downloaded burn_day_ca-0000030720-0000015360.tif - 100%\n",
      "⬇️ Downloaded burn_day_ca-0000030720-0000010240.tif - 100%\n",
      "⬇️ Downloaded burn_day_ca-0000030720-0000005120.tif - 100%\n",
      "⬇️ Downloaded burn_day_ca-0000030720-0000000000.tif - 100%\n",
      "⬇️ Downloaded burn_day_ca-0000025600-0000035840.tif - 100%\n",
      "⬇️ Downloaded burn_day_ca-0000025600-0000030720.tif - 100%\n",
      "⬇️ Downloaded burn_day_ca-0000025600-0000025600.tif - 100%\n"
     ]
    }
   ],
   "source": [
    "\n",
    "# burnday = ee.Image(\"projects/ee-tymc5571-goodfire/assets/wumi_20250509_burnday_1984_2025\")\n",
    "# states = ee.FeatureCollection(\"TIGER/2018/States\")\n",
    "# california = states.filter(ee.Filter.eq(\"NAME\", \"California\")).geometry()\n",
    "\n",
    "# export_image_to_drive_and_download(\n",
    "#     image=burnday,\n",
    "#     region=california,\n",
    "#     description=\"burn_day_ca\",\n",
    "#     local_filename=os.path.join(DIR_DERIVED, \"burn_day_ca_merged.tif\"),\n",
    "#     drive_folder=\"EarthEngineExports\",\n",
    "#     service_account_file=service_file\n",
    "#     scale=30,\n",
    "#     wait_interval=300,\n",
    "#     compress=\"deflate\"\n",
    "# )\n",
    "\n",
    "\n",
    "uf.download_merge_from_drive(\n",
    "    description=\"burn_day_ca\",\n",
    "    local_filename=os.path.join(DIR_DERIVED, \"burn_day_ca_merged.tif\"),\n",
    "    drive_folder=\"EarthEngineExports\",\n",
    "    service_account_file=service_file,\n",
    "    compress=\"deflate\"\n",
    ")\n",
    "\n",
    "\n",
    "# os.system(\"cp -r ~/burn_day_ca_merged.tif ~/data-store/data/iplant/home/shared/WFFRC/cbi\")"
   ]
  }
 ],
 "metadata": {
  "kernelspec": {
   "display_name": "macrosystems",
   "language": "python",
   "name": "python3"
  },
  "language_info": {
   "codemirror_mode": {
    "name": "ipython",
    "version": 3
   },
   "file_extension": ".py",
   "mimetype": "text/x-python",
   "name": "python",
   "nbconvert_exporter": "python",
   "pygments_lexer": "ipython3",
   "version": "3.10.18"
  }
 },
 "nbformat": 4,
 "nbformat_minor": 5
}
